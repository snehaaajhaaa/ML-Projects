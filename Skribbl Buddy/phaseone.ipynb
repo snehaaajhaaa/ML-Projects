f = open('mini_classes.txt',"r")
classes = f.readlines()
f.close()
